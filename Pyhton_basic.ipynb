{
  "nbformat": 4,
  "nbformat_minor": 0,
  "metadata": {
    "colab": {
      "name": "Pyhton_basic.ipynb",
      "provenance": [],
      "authorship_tag": "ABX9TyOowr5urnrdXS7WO+0sGiku",
      "include_colab_link": true
    },
    "kernelspec": {
      "name": "python3",
      "display_name": "Python 3"
    }
  },
  "cells": [
    {
      "cell_type": "markdown",
      "metadata": {
        "id": "view-in-github",
        "colab_type": "text"
      },
      "source": [
        "<a href=\"https://colab.research.google.com/github/ShuSorimachi/python_basic/blob/master/Pyhton_basic.ipynb\" target=\"_parent\"><img src=\"https://colab.research.google.com/assets/colab-badge.svg\" alt=\"Open In Colab\"/></a>"
      ]
    },
    {
      "cell_type": "markdown",
      "metadata": {
        "id": "CbbBVGBTx5Vq",
        "colab_type": "text"
      },
      "source": [
        ""
      ]
    },
    {
      "cell_type": "markdown",
      "metadata": {
        "id": "SqtQGcfh2l8z",
        "colab_type": "text"
      },
      "source": [
        "## ●変数と型"
      ]
    },
    {
      "cell_type": "code",
      "metadata": {
        "id": "qf8UWz-D2umq",
        "colab_type": "code",
        "colab": {}
      },
      "source": [
        "a = 123\n",
        "print(a)"
      ],
      "execution_count": 0,
      "outputs": []
    },
    {
      "cell_type": "code",
      "metadata": {
        "id": "cP1nf--226GC",
        "colab_type": "code",
        "colab": {}
      },
      "source": [
        "a = 123              # 整数型 (int) \n",
        "b = 123.456          # 浮動小数点型 (float)\n",
        "c =\"Hello World\"     # 文字列型 (string) \n",
        "d = True             # 論理型 (bool)\n",
        "e = [1, 2 ,3]        # リスト型 (list)"
      ],
      "execution_count": 0,
      "outputs": []
    },
    {
      "cell_type": "code",
      "metadata": {
        "id": "Q0rstyam3iv5",
        "colab_type": "code",
        "colab": {}
      },
      "source": [
        "print(a)\n",
        "print(b)\n",
        "print(c)\n",
        "print(d)\n",
        "print(e)"
      ],
      "execution_count": 0,
      "outputs": []
    },
    {
      "cell_type": "code",
      "metadata": {
        "id": "4qnHXldc3rjK",
        "colab_type": "code",
        "colab": {}
      },
      "source": [
        "a = True; b = False\n",
        "print(a + b)"
      ],
      "execution_count": 0,
      "outputs": []
    },
    {
      "cell_type": "markdown",
      "metadata": {
        "id": "cBUarR-G4Aib",
        "colab_type": "text"
      },
      "source": [
        "## ●演算子"
      ]
    },
    {
      "cell_type": "code",
      "metadata": {
        "id": "Q6JuLaWp4Lv6",
        "colab_type": "code",
        "colab": {}
      },
      "source": [
        "a = 3; b = 4\n",
        "\n",
        "c = a + b               # 足し算\n",
        "print(c) \n",
        "\n",
        "d = a < b               # 比較（小さいかどうか）\n",
        "print(d)\n",
        "\n",
        "e = 3 < 4 and 4 < 5     # 論理和\n",
        "print(e)"
      ],
      "execution_count": 0,
      "outputs": []
    },
    {
      "cell_type": "markdown",
      "metadata": {
        "id": "yMt--cAB4qqj",
        "colab_type": "text"
      },
      "source": [
        "主な演算子\n",
        "\n",
        "||||\n",
        "|:-:|:-:|:--|\n",
        "|算術演算子| \\+ | 足し算 |\n",
        "||- | 引き算 |\n",
        "|| * | かける |\n",
        "|| / | 割る（小数） |\n",
        "|| // | 割る（整数） |\n",
        "|| % | 余り |\n",
        "|| ** | べき乗 |\n",
        "|比較演算子| < | 小さい |\n",
        "|| > | 大きい |\n",
        "|| <= | 以上 |\n",
        "|| >= | 以下 |\n",
        "|| == | 等しい |\n",
        "|| != | 等しくない |\n",
        "|論理演算子| and | 両者を満たす |\n",
        "|| or | どちらか片方を満たす |\n",
        "|| not | 満たさない |\n",
        "||||"
      ]
    },
    {
      "cell_type": "markdown",
      "metadata": {
        "id": "FEMUxG0s43rb",
        "colab_type": "text"
      },
      "source": [
        "## ●リスト\n",
        "リストは、複数の値をまとめて扱う場合に使用  \n",
        "リストは全体を`[]`で囲み、各要素は`,`で区切る  \n",
        "Pythonのリストはどのような型の値でも格納することができ、リストの中にリストを格納することもできる  \n",
        "リストの各要素へのアクセスはインデックスを使い、要素の追加や入れ替えなどが可能  "
      ]
    },
    {
      "cell_type": "code",
      "metadata": {
        "id": "reNH9yno5AAD",
        "colab_type": "code",
        "colab": {}
      },
      "source": [
        "a = [1, 2, 3, 4, 5]     # リストの作成\n",
        "\n",
        "b = a[2]                # 3番目の要素を取得\n",
        "print(b)\n",
        "\n",
        "a.append(6)             # 末尾に要素を追加する\n",
        "print(a)\n",
        "\n",
        "a[2] = 7                # 要素の入れ替え\n",
        "print(a)"
      ],
      "execution_count": 0,
      "outputs": []
    },
    {
      "cell_type": "markdown",
      "metadata": {
        "id": "mDLoDaVn5EeD",
        "colab_type": "text"
      },
      "source": [
        "## ●タプル\n",
        "タプルはリストと同じく複数の値をまとめて扱いたいときに利用\n",
        "要素の追加や削除、入れ替えなどはできない \n",
        "タプルは全体を`()`で囲み、各要素は`,`で区切る  \n",
        "要素を変更する予定が無い場合は、リストよりもタプルを使用する方が良き  "
      ]
    },
    {
      "cell_type": "code",
      "metadata": {
        "id": "lWnmRzTP5QKr",
        "colab_type": "code",
        "colab": {}
      },
      "source": [
        "a = (1, 2, 3, 4, 5)     # タプルの作成\n",
        "\n",
        "b = a[2]                # 3番目の要素を取得\n",
        "print(b)"
      ],
      "execution_count": 0,
      "outputs": []
    }
  ]
}