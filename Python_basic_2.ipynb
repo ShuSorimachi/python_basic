{
  "nbformat": 4,
  "nbformat_minor": 0,
  "metadata": {
    "colab": {
      "name": "Python_basic_2",
      "provenance": [],
      "authorship_tag": "ABX9TyPV+FQ3GV3EN7Ac6XeB75da",
      "include_colab_link": true
    },
    "kernelspec": {
      "name": "python3",
      "display_name": "Python 3"
    }
  },
  "cells": [
    {
      "cell_type": "markdown",
      "metadata": {
        "id": "view-in-github",
        "colab_type": "text"
      },
      "source": [
        "<a href=\"https://colab.research.google.com/github/ShuSorimachi/python_basic/blob/master/Python_basic_2.ipynb\" target=\"_parent\"><img src=\"https://colab.research.google.com/assets/colab-badge.svg\" alt=\"Open In Colab\"/></a>"
      ]
    },
    {
      "cell_type": "markdown",
      "metadata": {
        "id": "theHbi0nUfSE",
        "colab_type": "text"
      },
      "source": [
        "# **Pythonの基礎2**\n",
        "\n",
        "関数やクラスについて"
      ]
    },
    {
      "cell_type": "markdown",
      "metadata": {
        "id": "SzudtovKUwrt",
        "colab_type": "text"
      },
      "source": [
        "## ●**関数**\n",
        "\n",
        "関数を用いることで、複数行の処理をまとめることができる。\n",
        "関数は**def**のあとに関数名を記述し、()の中に引数を記述\n",
        "\n",
        "returnのあとの値が返り値\n"
      ]
    },
    {
      "cell_type": "code",
      "metadata": {
        "id": "DpG4tuDOVOkd",
        "colab_type": "code",
        "colab": {}
      },
      "source": [
        "def add(a,b):          # 関数の定義\n",
        "  c = a + b\n",
        "  return c\n",
        "\n",
        "print(add(3,4))        # 関数の実行"
      ],
      "execution_count": 0,
      "outputs": []
    },
    {
      "cell_type": "markdown",
      "metadata": {
        "id": "cDD18K1JVeG2",
        "colab_type": "text"
      },
      "source": [
        "引数にはデフォルト値を設定できる。  \n",
        "デフォルト値を設定すると、関数を呼び出すときに引数を省略可能  "
      ]
    },
    {
      "cell_type": "code",
      "metadata": {
        "id": "Efd7aq5bWMi-",
        "colab_type": "code",
        "colab": {}
      },
      "source": [
        "def add(a, b=4):\n",
        "  c = a + b\n",
        "  return c\n",
        "\n",
        "print(add(3))"
      ],
      "execution_count": 0,
      "outputs": []
    }
  ]
}